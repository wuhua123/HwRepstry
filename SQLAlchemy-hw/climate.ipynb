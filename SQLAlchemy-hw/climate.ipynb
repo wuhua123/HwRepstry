{
 "cells": [
  {
   "cell_type": "code",
   "execution_count": 1,
   "metadata": {},
   "outputs": [],
   "source": [
    "%matplotlib inline\n",
    "from matplotlib import style\n",
    "style.use('fivethirtyeight')\n",
    "import matplotlib.pyplot as plt"
   ]
  },
  {
   "cell_type": "code",
   "execution_count": 2,
   "metadata": {},
   "outputs": [],
   "source": [
    "import numpy as np\n",
    "import pandas as pd"
   ]
  },
  {
   "cell_type": "code",
   "execution_count": 3,
   "metadata": {},
   "outputs": [],
   "source": [
    "import datetime as dt"
   ]
  },
  {
   "cell_type": "markdown",
   "metadata": {},
   "source": [
    "# Reflect Tables into SQLAlchemy ORM"
   ]
  },
  {
   "cell_type": "code",
   "execution_count": 4,
   "metadata": {},
   "outputs": [],
   "source": [
    "# Python SQL toolkit and Object Relational Mapper\n",
    "import sqlalchemy\n",
    "from sqlalchemy.ext.automap import automap_base\n",
    "from sqlalchemy.orm import Session\n",
    "from sqlalchemy import create_engine, func"
   ]
  },
  {
   "cell_type": "code",
   "execution_count": 5,
   "metadata": {},
   "outputs": [],
   "source": [
    "engine = create_engine(\"sqlite:///Resources/hawaii.sqlite\")"
   ]
  },
  {
   "cell_type": "code",
   "execution_count": 6,
   "metadata": {},
   "outputs": [],
   "source": [
    "# reflect an existing database into a new model\n",
    "Base = automap_base()\n",
    "# reflect the tables\n",
    "Base.prepare(engine, reflect=True)"
   ]
  },
  {
   "cell_type": "code",
   "execution_count": 7,
   "metadata": {},
   "outputs": [
    {
     "data": {
      "text/plain": [
       "['measurement', 'station']"
      ]
     },
     "execution_count": 7,
     "metadata": {},
     "output_type": "execute_result"
    }
   ],
   "source": [
    "# We can view all of the classes that automap found\n",
    "Base.classes.keys()"
   ]
  },
  {
   "cell_type": "code",
   "execution_count": 8,
   "metadata": {},
   "outputs": [],
   "source": [
    "# Save references to each table\n",
    "Measurement = Base.classes.measurement\n",
    "Station = Base.classes.station"
   ]
  },
  {
   "cell_type": "code",
   "execution_count": 9,
   "metadata": {},
   "outputs": [],
   "source": [
    "# Create our session (link) from Python to the DB\n",
    "session = Session(engine)"
   ]
  },
  {
   "cell_type": "code",
   "execution_count": 10,
   "metadata": {},
   "outputs": [
    {
     "data": {
      "image/png": "[encoded data removed]",
      "text/plain": [
       "<Figure size 1440x1080 with 1 Axes>"
      ]
     },
     "metadata": {},
     "output_type": "display_data"
    },
    {
     "data": {
      "text/plain": [
       "<Figure size 432x288 with 0 Axes>"
      ]
     },
     "metadata": {},
     "output_type": "display_data"
    }
   ],
   "source": [
    "#%matplotlib notebook\n",
    "\n",
    "# Design a query to retrieve the last 12 months of precipitation data and plot the results\n",
    "import datetime as dt\n",
    "from datetime import datetime\n",
    "\n",
    "\n",
    "# Calculate the date 1 year ago from the last data point in the database\n",
    "last_date1 = session.query(Measurement.date).order_by(Measurement.date.desc()).limit(5).all()\n",
    "last_date2 = [date[0] for date in last_date1]\n",
    "last_date3 = last_date2[0]\n",
    "last_date = dt.datetime.strptime(last_date3, '%Y-%m-%d')\n",
    "query_dateline = dt.date(last_date.year, last_date.month, last_date.day) - dt.timedelta(days=365)\n",
    "\n",
    "\n",
    "# Perform a query to retrieve the data and precipitation scores\n",
    "results = session.query(Measurement.date, func.max(Measurement.prcp)).filter(Measurement.date >= query_dateline).\\\n",
    "          filter(Measurement.prcp != None).group_by(Measurement.date).statement\n",
    "\n",
    "# Save the query results as a Pandas DataFrame and set the index to the date column\n",
    "df_prcp = pd.read_sql_query(results, session.bind)\n",
    "df_prcp_index = df_prcp.set_index(['date'])\n",
    "\n",
    "# Sort the dataframe by date\n",
    "df_prcp_sort = df_prcp_index.sort_values(by=['date'],ascending=True)\n",
    "\n",
    "# Use Pandas Plotting with Matplotlib to plot the data\n",
    "fig = plt.figure(figsize=(20,15))\n",
    "ax = fig.add_subplot(111)\n",
    "\n",
    "#pos1 = ax.get_position() # get the original position\n",
    "#pos2 = [pos1.x0-0.06, pos1.y0-0.05, pos1.width*1.5, pos1.height*1.5] \n",
    "#ax.set_position(pos2) # set a new position\n",
    "\n",
    "df_prcp_sort.iloc[0:-1].plot(ax = ax, kind='bar', width=4, align='edge',joinstyle='round', stacked=True)\n",
    "\n",
    "plt.tick_params(\n",
    "    axis='x',          # changes apply to the x-axis\n",
    "    which='both',      # both major and minor ticks are affected\n",
    "    bottom=False,      # ticks along the bottom edge are off\n",
    "    top=False,         # ticks along the top edge are off\n",
    "    labelbottom=False)\n",
    "\n",
    "ax.locator_params(axis='x', nbins=5)\n",
    "\n",
    "ax.set_xlim(-10, len(df_prcp_sort)+15)\n",
    "ax.set_ylim(-0.25, 7)\n",
    "\n",
    "\n",
    "#Dealing with legend\n",
    "import matplotlib.patches as mpatches\n",
    "patch = mpatches.Patch(label='precipitation')\n",
    "plt.legend(handles=[patch], bbox_to_anchor=(0.5, 1), loc='upper center', fontsize=28)\n",
    "\n",
    "# Adjust layout\n",
    "ax.get_figure().tight_layout()\n",
    "ax.get_figure().subplots_adjust(top=0.9)\n",
    "\n",
    "plt.show()\n",
    "plt.savefig(\"Images/prcp.png\")"
   ]
  },
  {
   "cell_type": "markdown",
   "metadata": {},
   "source": []
  },
  {
   "cell_type": "markdown",
   "metadata": {},
   "source": [
    "# Exploratory Climate Analysis"
   ]
  },
  {
   "cell_type": "markdown",
   "metadata": {},
   "source": [
    "![precipitation](Images/precipitation.png)"
   ]
  },
  {
   "cell_type": "code",
   "execution_count": 11,
   "metadata": {},
   "outputs": [
    {
     "data": {
      "text/html": [
       "<div>\n",
       "<style scoped>\n",
       "    .dataframe tbody tr th:only-of-type {\n",
       "        vertical-align: middle;\n",
       "    }\n",
       "\n",
       "    .dataframe tbody tr th {\n",
       "        vertical-align: top;\n",
       "    }\n",
       "\n",
       "    .dataframe thead th {\n",
       "        text-align: right;\n",
       "    }\n",
       "</style>\n",
       "<table border=\"1\" class=\"dataframe\">\n",
       "  <thead>\n",
       "    <tr style=\"text-align: right;\">\n",
       "      <th></th>\n",
       "      <th>precipitation</th>\n",
       "    </tr>\n",
       "  </thead>\n",
       "  <tbody>\n",
       "    <tr>\n",
       "      <th>count</th>\n",
       "      <td>2021.000000</td>\n",
       "    </tr>\n",
       "    <tr>\n",
       "      <th>mean</th>\n",
       "      <td>0.177279</td>\n",
       "    </tr>\n",
       "    <tr>\n",
       "      <th>std</th>\n",
       "      <td>0.461190</td>\n",
       "    </tr>\n",
       "    <tr>\n",
       "      <th>min</th>\n",
       "      <td>0.000000</td>\n",
       "    </tr>\n",
       "    <tr>\n",
       "      <th>25%</th>\n",
       "      <td>0.000000</td>\n",
       "    </tr>\n",
       "    <tr>\n",
       "      <th>50%</th>\n",
       "      <td>0.020000</td>\n",
       "    </tr>\n",
       "    <tr>\n",
       "      <th>75%</th>\n",
       "      <td>0.130000</td>\n",
       "    </tr>\n",
       "    <tr>\n",
       "      <th>max</th>\n",
       "      <td>6.700000</td>\n",
       "    </tr>\n",
       "  </tbody>\n",
       "</table>\n",
       "</div>"
      ],
      "text/plain": [
       "       precipitation\n",
       "count    2021.000000\n",
       "mean        0.177279\n",
       "std         0.461190\n",
       "min         0.000000\n",
       "25%         0.000000\n",
       "50%         0.020000\n",
       "75%         0.130000\n",
       "max         6.700000"
      ]
     },
     "execution_count": 11,
     "metadata": {},
     "output_type": "execute_result"
    }
   ],
   "source": [
    "# Use Pandas to calcualte the summary statistics for the precipitation data\n",
    "results_stat = session.query(Measurement.date, Measurement.prcp).filter(Measurement.date >= query_dateline).statement\n",
    "\n",
    "df_prcp_stat = pd.read_sql_query(results_stat, session.bind)\n",
    "\n",
    "df_prcp_stat = df_prcp_stat.rename(columns={'prcp':'precipitation'})\n",
    "\n",
    "df_prcp_stat.describe()\n",
    "\n"
   ]
  },
  {
   "cell_type": "markdown",
   "metadata": {},
   "source": [
    "![describe](Images/describe.png)"
   ]
  },
  {
   "cell_type": "code",
   "execution_count": 12,
   "metadata": {},
   "outputs": [
    {
     "name": "stdout",
     "output_type": "stream",
     "text": [
      "       station  counts\n",
      "0  USC00511918    1979\n",
      "1  USC00513117    2709\n",
      "2  USC00514830    2202\n",
      "3  USC00516128    2612\n",
      "4  USC00517948    1372\n",
      "5  USC00518838     511\n",
      "6  USC00519281    2772\n",
      "7  USC00519397    2724\n",
      "8  USC00519523    2669\n"
     ]
    }
   ],
   "source": [
    "# Design a query to show how many stations are available in this dataset?\n",
    "stations = session.query(Measurement.station, func.count(Measurement.station)).group_by(Measurement.station).statement\n",
    "\n",
    "df_stations_count = pd.read_sql_query(stations, session.bind)\n",
    "\n",
    "df_stations_count = df_stations_count.rename(columns={'count_1':'counts'})\n",
    "\n",
    "print(df_stations_count)\n"
   ]
  },
  {
   "cell_type": "code",
   "execution_count": 13,
   "metadata": {},
   "outputs": [
    {
     "name": "stdout",
     "output_type": "stream",
     "text": [
      "       station  counts\n",
      "0  USC00519281    2772\n",
      "1  USC00519397    2724\n",
      "2  USC00513117    2709\n",
      "3  USC00519523    2669\n",
      "4  USC00516128    2612\n",
      "5  USC00514830    2202\n",
      "6  USC00511918    1979\n",
      "7  USC00517948    1372\n",
      "8  USC00518838     511\n"
     ]
    }
   ],
   "source": [
    "# What are the most active stations? (i.e. what stations have the most rows)?\n",
    "# List the stations and the counts in descending order.\n",
    "df_stations_count_sort = df_stations_count.sort_values(by=['counts'], ascending=False)\n",
    "df_stations_count_sort = df_stations_count_sort.reset_index(drop=True)\n",
    "print(df_stations_count_sort)"
   ]
  },
  {
   "cell_type": "code",
   "execution_count": 14,
   "metadata": {},
   "outputs": [
    {
     "name": "stdout",
     "output_type": "stream",
     "text": [
      "       station  lowest tobs  highest tobs   avg tobs  tobs counts\n",
      "0  USC00519281         54.0          85.0  71.663781         2772\n",
      "1  USC00519397         56.0          87.0  74.553231         2724\n",
      "2  USC00513117         59.0          85.0  72.689184         2709\n",
      "3  USC00519523         56.0          85.0  74.543649         2669\n",
      "4  USC00516128         58.0          84.0  70.915008         2612\n",
      "5  USC00514830         58.0          85.0  74.873297         2202\n",
      "6  USC00511918         53.0          87.0  71.615968         1979\n",
      "7  USC00517948         58.0          87.0  74.684402         1372\n",
      "8  USC00518838         58.0          83.0  72.724070          511\n"
     ]
    }
   ],
   "source": [
    "# Using the station id from the previous query, calculate the lowest temperature recorded, \n",
    "# highest temperature recorded, and average temperature most active station?\n",
    "\n",
    "#first_row = session.query(Measurement).first()\n",
    "#first_row.__dict__\n",
    "\n",
    "stations_tobs = session.query(Measurement.station, func.min(Measurement.tobs), \\\n",
    "                         func.max(Measurement.tobs), func.avg(Measurement.tobs), \\\n",
    "                              func.count(Measurement.tobs)).group_by(Measurement.station).statement\n",
    "\n",
    "#load data into dataframe\n",
    "df_station_tobs = pd.read_sql_query(stations_tobs, session.bind)\n",
    "\n",
    "#change column names\n",
    "df_station_tobs = df_station_tobs.rename(columns={'min_1':'lowest tobs', \\\n",
    "                                                  'max_1':'highest tobs',\\\n",
    "                                                  'avg_1':'avg tobs',\\\n",
    "                                                  'count_1':'tobs counts'})\n",
    "\n",
    "#sort by station counts and reset index\n",
    "df_station_tobs = df_station_tobs.sort_values(['tobs counts'], ascending=False)\n",
    "df_station_tobs = df_station_tobs.reset_index(drop=True)\n",
    "\n",
    "#display on screen\n",
    "print(df_station_tobs)"
   ]
  },
  {
   "cell_type": "code",
   "execution_count": 15,
   "metadata": {},
   "outputs": [
    {
     "data": {
      "image/png": "[encoded data removed]",
      "text/plain": [
       "<Figure size 504x360 with 1 Axes>"
      ]
     },
     "metadata": {},
     "output_type": "display_data"
    },
    {
     "data": {
      "text/plain": [
       "<Figure size 432x288 with 0 Axes>"
      ]
     },
     "metadata": {},
     "output_type": "display_data"
    }
   ],
   "source": [
    "# Choose the station with the highest number of temperature observations.\n",
    "# Query the last 12 months of temperature observation data for this station and plot the results as a histogram\n",
    "\n",
    "one_station = session.query(Measurement.tobs).filter(Measurement.date >= query_dateline).\\\n",
    "filter(Measurement.station=='USC00519281').statement\n",
    "\n",
    "df_one_station = pd.read_sql_query(one_station, session.bind)\n",
    "\n",
    "fig, ax = plt.subplots(figsize=(7,5))\n",
    "\n",
    "bins = 12\n",
    "ax.hist(df_one_station['tobs'], bins)\n",
    "\n",
    "ax.legend(prop={'size': 10})\n",
    "\n",
    "plt.ylabel('Frequency')\n",
    "\n",
    "plt.show()\n",
    "plt.savefig(\"Images/station-histogram.png\")"
   ]
  },
  {
   "cell_type": "markdown",
   "metadata": {},
   "source": [
    "![precipitation](Images/station-histogram.png)"
   ]
  },
  {
   "cell_type": "code",
   "execution_count": 16,
   "metadata": {},
   "outputs": [
    {
     "name": "stdout",
     "output_type": "stream",
     "text": [
      "[(62.0, 69.57142857142857, 74.0)]\n"
     ]
    }
   ],
   "source": [
    "# This function called `calc_temps` will accept start date and end date in the format '%Y-%m-%d' \n",
    "# and return the minimum, average, and maximum temperatures for that range of dates\n",
    "def calc_temps(start_date, end_date):\n",
    "    \n",
    "    \"\"\"TMIN, TAVG, and TMAX for a list of dates.\n",
    "    \n",
    "    Args:\n",
    "        start_date (string): A date string in the format %Y-%m-%d\n",
    "        end_date (string): A date string in the format %Y-%m-%d\n",
    "        \n",
    "    Returns:\n",
    "        TMIN, TAVE, and TMAX\n",
    "    \"\"\"\n",
    "    \n",
    "    return session.query(func.min(Measurement.tobs), func.avg(Measurement.tobs), func.max(Measurement.tobs)).\\\n",
    "        filter(Measurement.date >= start_date).filter(Measurement.date <= end_date).all()\n",
    "\n",
    "# function usage example\n",
    "print(calc_temps('2012-02-28', '2012-03-05'))"
   ]
  },
  {
   "cell_type": "code",
   "execution_count": 17,
   "metadata": {},
   "outputs": [
    {
     "name": "stdout",
     "output_type": "stream",
     "text": [
      "---Temperature status in Honolulu during same days of previous year---\n",
      "\n",
      "      Lowest: 71.0\n",
      "      Average: 78.93478260869566\n",
      "      Highest: 83.0\n"
     ]
    }
   ],
   "source": [
    "# Use your previous function `calc_temps` to calculate the tmin, tavg, and tmax \n",
    "# for your trip using the previous year's data for those same dates.\n",
    "\n",
    "start_date = '2017-08-01'\n",
    "end_date = '2017-08-12'\n",
    "\n",
    "\n",
    "temperature_status = calc_temps(start_date, end_date)\n",
    "\n",
    "tmin = temperature_status[0][0]\n",
    "tmax = temperature_status[0][2]\n",
    "tavg = temperature_status[0][1]\n",
    "\n",
    "print(\"---Temperature status in Honolulu during same days of previous year---\")\n",
    "print()\n",
    "print(f\"      Lowest: {tmin}\")\n",
    "print(f\"      Average: {tavg}\")\n",
    "print(f\"      Highest: {tmax}\")\n"
   ]
  },
  {
   "cell_type": "code",
   "execution_count": 18,
   "metadata": {},
   "outputs": [
    {
     "data": {
      "image/png": "[encoded data removed]",
      "text/plain": [
       "<Figure size 216x288 with 1 Axes>"
      ]
     },
     "metadata": {},
     "output_type": "display_data"
    }
   ],
   "source": [
    "# Plot the results from your previous query as a bar chart. \n",
    "# Use \"Trip Avg Temp\" as your Title\n",
    "# Use the average temperature for the y value\n",
    "# Use the peak-to-peak (tmax-tmin) value as the y error bar (yerr)\n",
    "\n",
    "\n",
    "fig, ax = plt.subplots(figsize=(3,4))\n",
    "\n",
    "x = [0.5]\n",
    "#upper_error = tmax-tavg\n",
    "#lower_error = tavg-tmin\n",
    "\n",
    "plt.bar(x, tavg, 0.5, yerr=[tmax-tmin], alpha=0.3, color='r')\n",
    "\n",
    "#plt.axis('off')\n",
    "plt.title(\"Trip Avg Temp\")\n",
    "\n",
    "plt.xticks([])\n",
    "plt.xlim(0.02,1)\n",
    "plt.ylim(0,100)\n",
    "plt.ylabel(\"Temp(F)\")\n",
    "\n",
    "#plt.tight_layout(pad=0.05)\n",
    "plt.subplots_adjust(top=1.5)\n",
    "\n",
    "#plt.grid(False)\n",
    "plt.savefig(\"Images/temperature.png\")"
   ]
  },
  {
   "cell_type": "code",
   "execution_count": 19,
   "metadata": {},
   "outputs": [
    {
     "name": "stdout",
     "output_type": "stream",
     "text": [
      "---Rainfall per weather station during 2017-08-01 and 2017-08-12 of the previous year---\n",
      "\n",
      "       station  precipitation                                    name  \\\n",
      "0  USC00516128           1.06            MANOA LYON ARBO 785.2, HI US   \n",
      "1  USC00514830           0.32  KUALOA RANCH HEADQUARTERS 886.9, HI US   \n",
      "2  USC00519281           0.06                     WAIHEE 837.5, HI US   \n",
      "3  USC00519397           0.04                    WAIKIKI 717.2, HI US   \n",
      "4  USC00519523           0.00      WAIMANALO EXPERIMENTAL FARM, HI US   \n",
      "\n",
      "   latitude  longitude  elevation  \n",
      "0  21.33310 -157.80250      152.4  \n",
      "1  21.52130 -157.83740        7.0  \n",
      "2  21.45167 -157.84889       32.9  \n",
      "3  21.27160 -157.81680        3.0  \n",
      "4  21.33556 -157.71139       19.5  \n"
     ]
    }
   ],
   "source": [
    "# Calculate the rainfall per weather station for your trip dates using the previous year's matching dates.\n",
    "# Sort this in descending order by precipitation amount and list the station, name, latitude, longitude, and elevation\n",
    "\n",
    "\n",
    "rainfalls = session.query(Measurement.station, func.sum(Measurement.prcp),\\\n",
    "                          Station.name, Station.latitude, Station.longitude, Station.elevation ).\\\n",
    "                          filter(Measurement.station == Station.station).filter(Measurement.date >= start_date).\\\n",
    "                          filter(Measurement.date <= end_date).group_by(Measurement.station).statement\n",
    "\n",
    "df_rainfalls = pd.read_sql_query(rainfalls, session.bind)\n",
    "\n",
    "df_rainfalls = df_rainfalls.rename(columns={'sum_1':'precipitation'})\n",
    "\n",
    "df_rainfalls_sort = df_rainfalls.sort_values(by=['precipitation'], ascending=False)\n",
    "\n",
    "df_rainfalls_sort = df_rainfalls_sort.reset_index(drop=True)\n",
    "\n",
    "print(f\"---Rainfall per weather station during {start_date} and {end_date} of the previous year---\")\n",
    "print()\n",
    "print(df_rainfalls_sort)"
   ]
  },
  {
   "cell_type": "markdown",
   "metadata": {},
   "source": [
    "## Optional Challenge Assignment"
   ]
  },
  {
   "cell_type": "code",
   "execution_count": 20,
   "metadata": {},
   "outputs": [
    {
     "data": {
      "text/plain": [
       "[(62.0, 69.15384615384616, 77.0)]"
      ]
     },
     "execution_count": 20,
     "metadata": {},
     "output_type": "execute_result"
    }
   ],
   "source": [
    "# Create a query that will calculate the daily normals \n",
    "# (i.e. the averages for tmin, tmax, and tavg for all historic data matching a specific month and day)\n",
    "\n",
    "def daily_normals(date):\n",
    "    \"\"\"Daily Normals.\n",
    "    \n",
    "    Args:\n",
    "        date (str): A date string in the format '%m-%d'\n",
    "        \n",
    "    Returns:\n",
    "        A list of tuples containing the daily normals, tmin, tavg, and tmax\n",
    "    \n",
    "    \"\"\"\n",
    "    \n",
    "    sel = [func.min(Measurement.tobs), func.avg(Measurement.tobs), func.max(Measurement.tobs)]\n",
    "    return session.query(*sel).filter(func.strftime(\"%m-%d\", Measurement.date) == date).all()\n",
    "    \n",
    "daily_normals(\"01-01\")"
   ]
  },
  {
   "cell_type": "code",
   "execution_count": 27,
   "metadata": {},
   "outputs": [
    {
     "name": "stdout",
     "output_type": "stream",
     "text": [
      "--- This is a 12 days trip ---\n",
      "\n",
      "0   08-01   (67.0, 75.54, 83.0)\n",
      "1   08-02   (68.0, 75.60377358490567, 84.0)\n",
      "2   08-03   (70.0, 76.61111111111111, 85.0)\n",
      "3   08-04   (69.0, 76.71153846153847, 84.0)\n",
      "4   08-05   (69.0, 76.14814814814815, 82.0)\n",
      "5   08-06   (67.0, 76.25, 83.0)\n",
      "6   08-07   (71.0, 77.15686274509804, 83.0)\n",
      "7   08-08   (68.0, 76.5576923076923, 83.0)\n",
      "8   08-09   (69.0, 75.98039215686275, 81.0)\n",
      "9   08-10   (65.0, 76.42, 83.0)\n",
      "10   08-11   (67.0, 75.98113207547169, 82.0)\n",
      "11   08-12   (67.0, 76.52727272727273, 83.0)\n"
     ]
    }
   ],
   "source": [
    "# calculate the daily normals for your trip\n",
    "# push each tuple of calculations into a list called `normals`\n",
    "\n",
    "\n",
    "# Set the start and end date of the trip\n",
    "start_date_dt = dt.datetime.strptime(start_date, '%Y-%m-%d')\n",
    "end_date_dt = dt.datetime.strptime(end_date, \"%Y-%m-%d\")\n",
    "\n",
    "# Use the start and end date to create a range of dates\n",
    "days_count = abs((end_date_dt-start_date_dt).days)+1\n",
    "print(f\"--- This is a {days_count} days trip ---\")\n",
    "print()\n",
    "\n",
    "# Stip off the year and save a list of %m-%d strings\n",
    "dates = []\n",
    "date_dt = start_date_dt\n",
    "date_year = date_dt.year\n",
    "\n",
    "for i in range(0, days_count):\n",
    "    date_next_dt = dt.date(date_year, date_dt.month, date_dt.day) + dt.timedelta(days=1)\n",
    "    \n",
    "    date_str = dt.datetime.strftime(date_dt, \"%m-%d\")\n",
    "    dates.append(date_str)\n",
    "    \n",
    "    date_dt = date_next_dt\n",
    "\n",
    "    #print(dates[i])\n",
    "    \n",
    "\n",
    "# Loop through the list of %m-%d strings and calculate the normals for each date\n",
    "normals = []\n",
    "for i in range(0, len(dates)):\n",
    "    normal = daily_normals(dates[i])\n",
    "    normals.append(normal[0])\n",
    "    #print(normals[i])\n",
    "\n",
    "    \n",
    "for i in range(0, len(dates)):\n",
    "    print(f\"{i}   {dates[i]}   {normals[i]}\")"
   ]
  },
  {
   "cell_type": "code",
   "execution_count": 33,
   "metadata": {},
   "outputs": [
    {
     "name": "stdout",
     "output_type": "stream",
     "text": [
      "       tmin       tavg  tmax\n",
      "date                        \n",
      "08-01  67.0  75.540000  83.0\n",
      "08-02  68.0  75.603774  84.0\n",
      "08-03  70.0  76.611111  85.0\n",
      "08-04  69.0  76.711538  84.0\n",
      "08-05  69.0  76.148148  82.0\n",
      "08-06  67.0  76.250000  83.0\n",
      "08-07  71.0  77.156863  83.0\n",
      "08-08  68.0  76.557692  83.0\n",
      "08-09  69.0  75.980392  81.0\n",
      "08-10  65.0  76.420000  83.0\n",
      "08-11  67.0  75.981132  82.0\n",
      "08-12  67.0  76.527273  83.0\n"
     ]
    }
   ],
   "source": [
    "# Load the previous query results into a Pandas DataFrame and add the `trip_dates` range as the `date` index\n",
    "\n",
    "normals_df = pd.DataFrame(normals, columns=['tmin', 'tavg', 'tmax'])\n",
    "\n",
    "normals_df['date'] = dates\n",
    "\n",
    "normals_df['date']= normals_df.set_index(['date'], drop=True, inplace=True)\n",
    "\n",
    "print(normals_df)\n",
    "#print(normals_df.head())\n",
    "#print(normals_df.index)"
   ]
  },
  {
   "cell_type": "code",
   "execution_count": 36,
   "metadata": {},
   "outputs": [
    {
     "data": {
      "image/png": "[encoded data removed]",
      "text/plain": [
       "<Figure size 432x288 with 1 Axes>"
      ]
     },
     "metadata": {},
     "output_type": "display_data"
    },
    {
     "data": {
      "text/plain": [
       "<Figure size 432x288 with 0 Axes>"
      ]
     },
     "metadata": {},
     "output_type": "display_data"
    }
   ],
   "source": [
    "# Plot the daily normals as an area plot with `stacked=False`\n",
    "\n",
    "ax = normals_df.plot(kind='area', stacked=False, title='Daily Normals')\n",
    "\n",
    "ax.set_ylabel('Temperatures')\n",
    "#ax.set_xticks(normals_df_index)\n",
    "ax.margins(0.1, 0.1) # Set margins to avoid \"whitespace\"\n",
    "\n",
    "plt.show()\n",
    "plt.savefig(\"Images/daily-normals.png\")"
   ]
  }
 ],
 "metadata": {
  "kernel_info": {
   "name": "python3"
  },
  "kernelspec": {
   "display_name": "Python 3",
   "language": "python",
   "name": "python3"
  },
  "language_info": {
   "codemirror_mode": {
    "name": "ipython",
    "version": 3
   },
   "file_extension": ".py",
   "mimetype": "text/x-python",
   "name": "python",
   "nbconvert_exporter": "python",
   "pygments_lexer": "ipython3",
   "version": "3.6.5"
  },
  "nteract": {
   "version": "0.9.1"
  },
  "varInspector": {
   "cols": {
    "lenName": 16,
    "lenType": 16,
    "lenVar": 40
   },
   "kernels_config": {
    "python": {
     "delete_cmd_postfix": "",
     "delete_cmd_prefix": "del ",
     "library": "var_list.py",
     "varRefreshCmd": "print(var_dic_list())"
    },
    "r": {
     "delete_cmd_postfix": ") ",
     "delete_cmd_prefix": "rm(",
     "library": "var_list.r",
     "varRefreshCmd": "cat(var_dic_list()) "
    }
   },
   "types_to_exclude": [
    "module",
    "function",
    "builtin_function_or_method",
    "instance",
    "_Feature"
   ],
   "window_display": false
  }
 },
 "nbformat": 4,
 "nbformat_minor": 2
}
