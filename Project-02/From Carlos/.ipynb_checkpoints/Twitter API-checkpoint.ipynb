{
 "cells": [
  {
   "cell_type": "code",
   "execution_count": 1,
   "metadata": {},
   "outputs": [],
   "source": [
    "#libraries\n",
    "import twitter\n",
    "import pandas as pd\n",
    "import datetime as dt\n",
    "\n",
    "#config\n",
    "from config import consumer_key, consumer_secret, access_token, access_token_secret"
   ]
  },
  {
   "cell_type": "code",
   "execution_count": 2,
   "metadata": {},
   "outputs": [
    {
     "ename": "AttributeError",
     "evalue": "module 'twitter' has no attribute 'Api'",
     "output_type": "error",
     "traceback": [
      "\u001b[1;31m---------------------------------------------------------------------------\u001b[0m",
      "\u001b[1;31mAttributeError\u001b[0m                            Traceback (most recent call last)",
      "\u001b[1;32m<ipython-input-2-691948136ce8>\u001b[0m in \u001b[0;36m<module>\u001b[1;34m()\u001b[0m\n\u001b[0;32m      1\u001b[0m \u001b[1;31m#api connection\u001b[0m\u001b[1;33m\u001b[0m\u001b[1;33m\u001b[0m\u001b[0m\n\u001b[1;32m----> 2\u001b[1;33m \u001b[0mapi\u001b[0m \u001b[1;33m=\u001b[0m \u001b[0mtwitter\u001b[0m\u001b[1;33m.\u001b[0m\u001b[0mApi\u001b[0m\u001b[1;33m(\u001b[0m\u001b[0mconsumer_key\u001b[0m\u001b[1;33m,\u001b[0m \u001b[0mconsumer_secret\u001b[0m\u001b[1;33m,\u001b[0m \u001b[0maccess_token\u001b[0m\u001b[1;33m,\u001b[0m \u001b[0maccess_token_secret\u001b[0m\u001b[1;33m)\u001b[0m\u001b[1;33m\u001b[0m\u001b[0m\n\u001b[0m",
      "\u001b[1;31mAttributeError\u001b[0m: module 'twitter' has no attribute 'Api'"
     ]
    }
   ],
   "source": [
    "#api connection\n",
    "api = twitter.Api(consumer_key, consumer_secret, access_token, access_token_secret)"
   ]
  },
  {
   "cell_type": "code",
   "execution_count": null,
   "metadata": {},
   "outputs": [],
   "source": [
    "#verify connection\n",
    "print(api.VerifyCredentials())\n",
    "{\"id\": 16133, \"location\": \"Philadelphia\", \"name\": \"bear\"}"
   ]
  },
  {
   "cell_type": "code",
   "execution_count": null,
   "metadata": {},
   "outputs": [],
   "source": [
    "# simple raw query to check data type\n",
    "results = api.GetSearch(\n",
    "    raw_query=\"q=twitter%20&result_type=recent&since=2014-07-19&count=100\")\n",
    "\n",
    "results"
   ]
  },
  {
   "cell_type": "code",
   "execution_count": null,
   "metadata": {},
   "outputs": [],
   "source": [
    "# do a loop and check objects \n",
    "results_test = api.GetSearch(\"bitcoin\", since=2018-12-15, count=500)\n",
    "for tweet in results_test:\n",
    "    print(tweet.id, tweet.text)\n",
    "    "
   ]
  },
  {
   "cell_type": "code",
   "execution_count": null,
   "metadata": {},
   "outputs": [],
   "source": [
    "#print(tweet.id, tweet.text, tweet.created_at, tweet.user.screen_name, tweet.source)\n",
    "#print(tweet.favorite_count, tweet.text, tweet.retweet_count)\n",
    "topics_dict =   {\"Id\":[], \n",
    "                \"Tweet\":[],\n",
    "                \"ScreenName\":[], \n",
    "                \"url\":[], \n",
    "                \"Created\":[], \n",
    "                \"retweet\":[], \n",
    "                \"favorite_count\":[]}"
   ]
  },
  {
   "cell_type": "code",
   "execution_count": null,
   "metadata": {},
   "outputs": [],
   "source": [
    "for tweet in results_test:\n",
    "    topics_dict[\"Id\"].append(tweet.id)\n",
    "    topics_dict[\"Tweet\"].append(tweet.text)\n",
    "    topics_dict[\"ScreenName\"].append(tweet.user.screen_name)\n",
    "    topics_dict[\"url\"].append(tweet.source)\n",
    "    topics_dict[\"Created\"].append(tweet.created_at)\n",
    "    topics_dict[\"retweet\"].append(tweet.retweet_count)\n",
    "    topics_dict[\"favorite_count\"].append(tweet.favorite_count)\n",
    "    "
   ]
  },
  {
   "cell_type": "code",
   "execution_count": null,
   "metadata": {
    "scrolled": false
   },
   "outputs": [],
   "source": [
    "topics_data = pd.DataFrame(topics_dict)\n",
    "topics_data.head()\n",
    "\n",
    "#topics_data.sort_values(\"favorite_count\", ascending=False)\n",
    "topics_data.sort_values([\"retweet\", \"favorite_count\"], ascending=[False, False])"
   ]
  },
  {
   "cell_type": "code",
   "execution_count": null,
   "metadata": {},
   "outputs": [],
   "source": [
    "print(topics_data.Tweet)"
   ]
  },
  {
   "cell_type": "code",
   "execution_count": null,
   "metadata": {},
   "outputs": [],
   "source": [
    "new_topics_data_df = topics_data[['ScreenName', 'Tweet', 'retweet', 'favorite_count', 'Created']].copy()\n",
    "new_topics_data_df.head()"
   ]
  },
  {
   "cell_type": "code",
   "execution_count": null,
   "metadata": {},
   "outputs": [],
   "source": [
    "new_topics_data_df['source']='Twitter'\n",
    "print(new_topics_data_df.head())"
   ]
  },
  {
   "cell_type": "code",
   "execution_count": null,
   "metadata": {},
   "outputs": [],
   "source": []
  },
  {
   "cell_type": "code",
   "execution_count": null,
   "metadata": {},
   "outputs": [],
   "source": []
  }
 ],
 "metadata": {
  "kernelspec": {
   "display_name": "Python 3",
   "language": "python",
   "name": "python3"
  },
  "language_info": {
   "codemirror_mode": {
    "name": "ipython",
    "version": 3
   },
   "file_extension": ".py",
   "mimetype": "text/x-python",
   "name": "python",
   "nbconvert_exporter": "python",
   "pygments_lexer": "ipython3",
   "version": "3.6.5"
  }
 },
 "nbformat": 4,
 "nbformat_minor": 2
}
